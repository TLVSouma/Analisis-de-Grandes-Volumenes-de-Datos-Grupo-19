{
  "nbformat": 4,
  "nbformat_minor": 0,
  "metadata": {
    "colab": {
      "provenance": []
    },
    "kernelspec": {
      "name": "python3",
      "display_name": "Python 3"
    },
    "language_info": {
      "name": "python"
    }
  },
  "cells": [
    {
      "cell_type": "code",
      "execution_count": null,
      "metadata": {
        "colab": {
          "base_uri": "https://localhost:8080/"
        },
        "id": "2BLeXG9lEWy0",
        "outputId": "ebab496f-e066-40b7-d7a8-5d7eeee1ce64"
      },
      "outputs": [
        {
          "output_type": "stream",
          "name": "stdout",
          "text": [
            "Collecting pyspark\n",
            "  Downloading pyspark-3.5.1.tar.gz (317.0 MB)\n",
            "\u001b[2K     \u001b[90m━━━━━━━━━━━━━━━━━━━━━━━━━━━━━━━━━━━━━━━━\u001b[0m \u001b[32m317.0/317.0 MB\u001b[0m \u001b[31m4.1 MB/s\u001b[0m eta \u001b[36m0:00:00\u001b[0m\n",
            "\u001b[?25h  Preparing metadata (setup.py) ... \u001b[?25l\u001b[?25hdone\n",
            "Requirement already satisfied: py4j==0.10.9.7 in /usr/local/lib/python3.10/dist-packages (from pyspark) (0.10.9.7)\n",
            "Building wheels for collected packages: pyspark\n",
            "  Building wheel for pyspark (setup.py) ... \u001b[?25l\u001b[?25hdone\n",
            "  Created wheel for pyspark: filename=pyspark-3.5.1-py2.py3-none-any.whl size=317488491 sha256=4d7bae651f11fc0fc5a93fa36cd6f062183ef16ab25711ec3d0883844e1bead2\n",
            "  Stored in directory: /root/.cache/pip/wheels/80/1d/60/2c256ed38dddce2fdd93be545214a63e02fbd8d74fb0b7f3a6\n",
            "Successfully built pyspark\n",
            "Installing collected packages: pyspark\n",
            "Successfully installed pyspark-3.5.1\n"
          ]
        }
      ],
      "source": [
        "#!pip uninstall pyspark\n",
        "!pip install pyspark"
      ]
    },
    {
      "cell_type": "markdown",
      "source": [
        "\n",
        "**Alternating Least Squares (ALS)** es un algoritmo utilizado en sistemas de recomendación, especialmente para la factorización de matrices. Es una técnica que descompone una matriz grande y dispersa (como una matriz de usuario-producto en la que la mayoría de las entradas son desconocidas) en dos matrices más pequeñas y densas. Estas dos matrices representan las características latentes de los usuarios y los productos.\n",
        "\n"
      ],
      "metadata": {
        "id": "ifcthcysJ2V2"
      }
    },
    {
      "cell_type": "code",
      "source": [
        "from pyspark.sql import SparkSession\n",
        "from pyspark.sql.functions import col\n",
        "from pyspark.ml.evaluation import RegressionEvaluator\n",
        "from pyspark.ml.recommendation import ALS\n",
        "from collections import Counter\n",
        "\n",
        "# Crear una sesión de Spark\n",
        "spark = SparkSession.builder.appName('MovieRecommender').getOrCreate()\n",
        "\n",
        "# Cargar los datos\n",
        "df_ratings = spark.read.csv(\"/content/rating.csv\", header=True, inferSchema=True)\n",
        "df_movies = spark.read.csv(\"/content/movie.csv\", header=True, inferSchema=True)\n",
        "\n",
        "# Unir los dataframes de ratings y movies\n",
        "df_ratings = df_ratings.join(df_movies, on=\"movieId\", how=\"inner\")\n",
        "\n",
        "# Seleccionar las columnas necesarias\n",
        "df_ratings = df_ratings.select('userId', 'movieId', 'rating', 'title', 'genres')\n",
        "\n",
        "# Dividir los datos en conjuntos de entrenamiento y prueba\n",
        "train, test = df_ratings.randomSplit([0.8, 0.2], seed=42)\n",
        "\n",
        "# Crear el modelo ALS\n",
        "als = ALS(\n",
        "    maxIter=10,\n",
        "    regParam=0.1,\n",
        "    userCol=\"userId\",\n",
        "    itemCol=\"movieId\",\n",
        "    ratingCol=\"rating\",\n",
        "    coldStartStrategy=\"drop\"\n",
        ")\n",
        "\n",
        "# Entrenar el modelo\n",
        "model = als.fit(train)\n",
        "\n",
        "# Evaluar el modelo usando RMSE\n",
        "predictions = model.transform(test)\n",
        "evaluator = RegressionEvaluator(\n",
        "    metricName=\"rmse\",\n",
        "    labelCol=\"rating\",\n",
        "    predictionCol=\"prediction\"\n",
        ")\n",
        "rmse = evaluator.evaluate(predictions)\n",
        "print(f\"Root-mean-square error = {rmse}\")\n",
        "\n",
        "# Evaluar el modelo usando MAE\n",
        "evaluator_mae = RegressionEvaluator(\n",
        "    metricName=\"mae\",\n",
        "    labelCol=\"rating\",\n",
        "    predictionCol=\"prediction\"\n",
        ")\n",
        "mae = evaluator_mae.evaluate(predictions)\n",
        "print(f\"Mean Absolute Error = {mae}\")\n",
        "\n",
        "# Función para obtener las recomendaciones para un usuario específico\n",
        "def get_recommendations(user_id, model, df_movies, num_recommendations=10):\n",
        "    # Obtener las recomendaciones para el usuario especificado\n",
        "    recs = model.recommendForUserSubset(spark.createDataFrame([(user_id,)], [\"userId\"]), num_recommendations)\n",
        "    recs = recs.collect()[0]['recommendations']\n",
        "    movie_ids = [rec.movieId for rec in recs]\n",
        "\n",
        "    # Obtener los detalles de las películas recomendadas\n",
        "    recommended_movies = df_movies.filter(df_movies.movieId.isin(movie_ids)).select('title', 'genres').collect()\n",
        "\n",
        "    recommendations = []\n",
        "    for movie in recommended_movies:\n",
        "        recommendations.append((movie['title'], movie['genres']))\n",
        "\n",
        "    return recommendations\n",
        "\n",
        "# Función para resumir los géneros de las recomendaciones\n",
        "def summarize_genres(recommendations):\n",
        "    genre_counter = Counter()\n",
        "    for title, genres in recommendations:\n",
        "        genre_list = genres.split('|')\n",
        "        genre_counter.update(genre_list)\n",
        "\n",
        "    return genre_counter\n",
        "\n",
        "# Función para mostrar las recomendaciones de un usuario específico y resumir sus géneros preferidos\n",
        "def show_user_recommendations_and_genre_summary(user_id):\n",
        "    recommendations = get_recommendations(user_id, model, df_movies)\n",
        "    print(f\"Recomendaciones para el usuario {user_id}:\")\n",
        "    for title, genres in recommendations:\n",
        "        print(f\"Pelicula: {title}, Géneros: {genres}\")\n",
        "\n",
        "    genre_summary = summarize_genres(recommendations)\n",
        "    print(\"\\nResumen de géneros favoritos del usuario:\")\n",
        "    for genre, count in genre_summary.items():\n",
        "        print(f\"Género: {genre}, Conteo: {count}\")\n",
        "\n",
        "# Ejemplo de uso\n",
        "user_id = 148  # Cambia esto por el ID del usuario que deseas recomendar\n",
        "show_user_recommendations_and_genre_summary(user_id)\n"
      ],
      "metadata": {
        "colab": {
          "base_uri": "https://localhost:8080/"
        },
        "id": "KSCdCt1GEg9g",
        "outputId": "0d4a09a6-1518-4c54-d6d1-a95a0c859f3d"
      },
      "execution_count": null,
      "outputs": [
        {
          "output_type": "stream",
          "name": "stdout",
          "text": [
            "Root-mean-square error = 0.8122131260384973\n",
            "Mean Absolute Error = 0.6335012833014136\n",
            "Recomendaciones para el usuario 148:\n",
            "Pelicula: Letter From Death Row, A (1998), Géneros: Crime|Drama\n",
            "Pelicula: Twice Upon a Time (1983), Géneros: Animation|Fantasy\n",
            "Pelicula: Hotel Terminus: The Life and Times of Klaus Barbie (Hôtel Terminus) (1988), Géneros: Documentary\n",
            "Pelicula: Return to the 36th Chamber (Shao Lin da peng da shi) (1980), Géneros: Action|Comedy\n",
            "Pelicula: Punk's Not Dead (2007), Géneros: Documentary\n",
            "Pelicula: Johnny Cash at Folsom Prison (2008), Géneros: Documentary\n",
            "Pelicula: Child's Christmas in Wales, A (1987), Géneros: Children|Drama\n",
            "Pelicula: Mimino (1977), Géneros: Comedy\n",
            "Pelicula: London - The Modern Babylon (2012), Géneros: Documentary\n",
            "Pelicula: Magic of Ordinary Days, The (2005), Géneros: Drama\n",
            "\n",
            "Resumen de géneros favoritos del usuario:\n",
            "Género: Crime, Conteo: 1\n",
            "Género: Drama, Conteo: 3\n",
            "Género: Animation, Conteo: 1\n",
            "Género: Fantasy, Conteo: 1\n",
            "Género: Documentary, Conteo: 4\n",
            "Género: Action, Conteo: 1\n",
            "Género: Comedy, Conteo: 2\n",
            "Género: Children, Conteo: 1\n"
          ]
        }
      ]
    },
    {
      "cell_type": "markdown",
      "source": [
        "Identifica y justifica las métricas de evaluación utilizadas para evaluar el desempeño de los sistemas de recomendación, con el proyecto elegido por equipo."
      ],
      "metadata": {
        "id": "PwXoQLqsItpO"
      }
    },
    {
      "cell_type": "markdown",
      "source": [
        "Root-mean-square error = 0.8122131260384973\n",
        "Mean Absolute Error = 0.6335012833014136\n",
        "\n",
        "Error Cuadrático Medio (RMSE)\n",
        "\n",
        "El RMSE mide la magnitud promedio de los errores de predicción del modelo, tomando la raíz cuadrada de la media de los errores cuadráticos.\n",
        "\n",
        "Interpretación:\n",
        "\n",
        "Bajo RMSE: Indica que las predicciones del modelo están cerca de los valores reales, lo que significa un mejor rendimiento.\n",
        "Alto RMSE: Indica que las predicciones del modelo están lejos de los valores reales, lo que significa un peor rendimiento.\n",
        "\n",
        "Error Absoluto Medio (MAE)\n",
        "\n",
        "El MAE mide la magnitud promedio de los errores de predicción del modelo, tomando el promedio de las diferencias absolutas entre los valores reales y los valores predichos.\n",
        "\n",
        "Interpretación:\n",
        "\n",
        "Bajo MAE: Indica que, en promedio, las predicciones del modelo están cerca de los valores reales.\n",
        "\n",
        "Alto MAE: Indica que, en promedio, las predicciones del modelo están lejos de los valores reales.\n",
        "\n",
        "Interpretación de los resultados:\n",
        "\n",
        "RMSE = 0.86: Esto significa que la desviación estándar de los errores de predicción es 0.86. Es decir, en promedio, las predicciones del modelo están a 0.86 unidades de calificación de los valores reales.\n",
        "MAE = 0.68: Esto significa que, en promedio, las predicciones del modelo están a 0.68 unidades de calificación de los valores reales.\n",
        "Estos resultados indican que el modelo tiene una precisión moderada en sus predicciones. Dependiendo del contexto y los requisitos del sistema de recomendación, estos errores pueden ser aceptables o pueden indicar que se necesita mejorar el modelo.\n",
        "\n",
        "\n",
        "\n"
      ],
      "metadata": {
        "id": "0qBualUxIx3h"
      }
    },
    {
      "cell_type": "markdown",
      "source": [
        "Resultados y análisis. Enlista la menos 3 recomendaciones donde se muestren los resultados obtenidos del punto 1 (implementación del algoritmo). La evidencia se debe pone en el repositorio GitHub del equipo."
      ],
      "metadata": {
        "id": "4XLRNV7LJP8x"
      }
    },
    {
      "cell_type": "code",
      "source": [
        "user_id = 9032  # Cambia esto por el ID del usuario que deseas recomendar\n",
        "show_user_recommendations_and_genre_summary(user_id)"
      ],
      "metadata": {
        "colab": {
          "base_uri": "https://localhost:8080/"
        },
        "id": "Fy1-r-TmJWI6",
        "outputId": "47b557b7-8991-474b-c371-c24862306169"
      },
      "execution_count": null,
      "outputs": [
        {
          "output_type": "stream",
          "name": "stdout",
          "text": [
            "Recomendaciones para el usuario 9032:\n",
            "Pelicula: Class Trip, The (La classe de neige) (1998), Géneros: Drama|Mystery\n",
            "Pelicula: Myra Breckinridge (1970), Géneros: Comedy\n",
            "Pelicula: Black Girl (La noire de...) (1966), Géneros: Drama\n",
            "Pelicula: Bob Funk (2009), Géneros: Comedy|Romance\n",
            "Pelicula: Hamoun (1990), Géneros: Drama\n",
            "Pelicula: Christine Jorgensen Story, The (1970), Géneros: Drama\n",
            "Pelicula: Taming the Fire (Ukroshcheniye ognya) (1972), Géneros: Documentary|Drama|Sci-Fi\n",
            "Pelicula: Whoopi Goldberg Presents Moms Mabley (2013), Géneros: Documentary\n",
            "Pelicula: 2013 Rock and Roll Hall of Fame Induction Ceremony, The (2013), Géneros: Documentary|Musical\n",
            "Pelicula: Bill Maher... But I'm Not Wrong (2010), Géneros: Comedy\n",
            "\n",
            "Resumen de géneros favoritos del usuario:\n",
            "Género: Drama, Conteo: 5\n",
            "Género: Mystery, Conteo: 1\n",
            "Género: Comedy, Conteo: 3\n",
            "Género: Romance, Conteo: 1\n",
            "Género: Documentary, Conteo: 3\n",
            "Género: Sci-Fi, Conteo: 1\n",
            "Género: Musical, Conteo: 1\n"
          ]
        }
      ]
    },
    {
      "cell_type": "code",
      "source": [
        "user_id = 5  # Cambia esto por el ID del usuario que deseas recomendar\n",
        "show_user_recommendations_and_genre_summary(user_id)"
      ],
      "metadata": {
        "colab": {
          "base_uri": "https://localhost:8080/"
        },
        "id": "XGW54EUvJnWN",
        "outputId": "9c5d2df2-bb9c-4ca8-89b4-429e7ab97cfa"
      },
      "execution_count": null,
      "outputs": [
        {
          "output_type": "stream",
          "name": "stdout",
          "text": [
            "Recomendaciones para el usuario 5:\n",
            "Pelicula: Letter From Death Row, A (1998), Géneros: Crime|Drama\n",
            "Pelicula: Smashing Pumpkins: Vieuphoria (1994), Géneros: Documentary|Musical\n",
            "Pelicula: Hotel Terminus: The Life and Times of Klaus Barbie (Hôtel Terminus) (1988), Géneros: Documentary\n",
            "Pelicula: Punk's Not Dead (2007), Géneros: Documentary\n",
            "Pelicula: Pearl Jam: Immagine in Cornice - Live in Italy 2006 (2007), Géneros: Documentary|Musical\n",
            "Pelicula: Hatful of Rain, A (1957), Géneros: Drama\n",
            "Pelicula: Toys in the Attic (1963), Géneros: Drama\n",
            "Pelicula: Johnny Cash at Folsom Prison (2008), Géneros: Documentary\n",
            "Pelicula: Tis kakomoiras (1963), Géneros: Comedy\n",
            "Pelicula: Afstiros katallilo (2008), Géneros: Comedy\n",
            "\n",
            "Resumen de géneros favoritos del usuario:\n",
            "Género: Crime, Conteo: 1\n",
            "Género: Drama, Conteo: 3\n",
            "Género: Documentary, Conteo: 5\n",
            "Género: Musical, Conteo: 2\n",
            "Género: Comedy, Conteo: 2\n"
          ]
        }
      ]
    },
    {
      "cell_type": "code",
      "source": [
        "user_id = 105  # Cambia esto por el ID del usuario que deseas recomendar\n",
        "show_user_recommendations_and_genre_summary(user_id)"
      ],
      "metadata": {
        "colab": {
          "base_uri": "https://localhost:8080/"
        },
        "id": "iy7i51GdJvaV",
        "outputId": "55b3f9e3-f73a-4103-d27f-47119b628025"
      },
      "execution_count": null,
      "outputs": [
        {
          "output_type": "stream",
          "name": "stdout",
          "text": [
            "Recomendaciones para el usuario 105:\n",
            "Pelicula: Cabeza de Vaca (1991), Géneros: Action|Adventure\n",
            "Pelicula: Smashing Pumpkins: Vieuphoria (1994), Géneros: Documentary|Musical\n",
            "Pelicula: 7 Men from Now (Seven Men from Now) (1956), Géneros: Western\n",
            "Pelicula: Motel, The (2005), Géneros: Comedy|Drama\n",
            "Pelicula: Filth and Wisdom (2008), Géneros: Comedy|Drama|Musical|Romance\n",
            "Pelicula: Hatful of Rain, A (1957), Géneros: Drama\n",
            "Pelicula: Bob Funk (2009), Géneros: Comedy|Romance\n",
            "Pelicula: Poolboy: Drowning Out the Fury (2011), Géneros: Comedy\n",
            "Pelicula: Barfi! (2012), Géneros: Comedy|Drama|Romance\n",
            "Pelicula: Bambi Meets Godzilla (1969), Géneros: Animation|Comedy\n",
            "\n",
            "Resumen de géneros favoritos del usuario:\n",
            "Género: Action, Conteo: 1\n",
            "Género: Adventure, Conteo: 1\n",
            "Género: Documentary, Conteo: 1\n",
            "Género: Musical, Conteo: 2\n",
            "Género: Western, Conteo: 1\n",
            "Género: Comedy, Conteo: 6\n",
            "Género: Drama, Conteo: 4\n",
            "Género: Romance, Conteo: 3\n",
            "Género: Animation, Conteo: 1\n"
          ]
        }
      ]
    }
  ]
}